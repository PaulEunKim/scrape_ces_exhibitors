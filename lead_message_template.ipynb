{
 "cells": [
  {
   "cell_type": "code",
   "execution_count": 27,
   "id": "83a2c649",
   "metadata": {},
   "outputs": [],
   "source": [
    "contact_name = 'Joel'\n",
    "company_name = 'A Good Intention AI'\n",
    "industry = 'orthodontics'"
   ]
  },
  {
   "cell_type": "code",
   "execution_count": 29,
   "id": "61bf45b9",
   "metadata": {},
   "outputs": [
    {
     "name": "stdout",
     "output_type": "stream",
     "text": [
      "Joel, Curious About Your Orthodontics Insights\n"
     ]
    }
   ],
   "source": [
    "subject = f\"{contact_name}, Curious About Your {industry.title()} Insights\"\n",
    "print(subject)"
   ]
  },
  {
   "cell_type": "code",
   "execution_count": 28,
   "id": "e15d2474",
   "metadata": {},
   "outputs": [
    {
     "name": "stdout",
     "output_type": "stream",
     "text": [
      "Hi Joel,\n",
      "\n",
      "Hope you're doing great! I noticed that A Good Intention AI will be at CES next month and I was impressed by the innovative strides that A Good Intention AI is making in orthodontics.\n",
      "\n",
      "I wanted to reach out because I genuinely think what we're doing at AIMMO would take a lot of workload off your team's data operations via our data collection, curation, annotation, and evaluation services. \n",
      "\n",
      "If you're planning to visit CES next month, we'd be thrilled to see you at our booth. I'm very curious in learning about the specific challenges and ambitions you have at A Good Intention AI. We're also hosting an exclusive dinner and it would be pleasure to invite you to (RSVP: https://forms.office.com/r/ERUjA72YAk). \n",
      "\n",
      "Happy holidays!\n",
      "\n",
      "- Paul Kim\n",
      "AIMMO Sales Engineer | Software | Machine Learning\n"
     ]
    }
   ],
   "source": [
    "message = f\"Hi {contact_name},\\\n",
    "\\\n",
    "\\n\\nHope you're doing great! I noticed that {company_name} will be at CES next month and I was impressed by the innovative strides that {company_name} is making in {industry}.\\\n",
    "\\\n",
    "\\n\\nI wanted to reach out because I genuinely think what we're doing at AIMMO would take a lot of workload off your team's data operations via our data collection, curation, annotation, and evaluation services. \\\n",
    "\\\n",
    "\\n\\nIf you're planning to visit CES next month, we'd be thrilled to see you at our booth. I'm very curious in learning about the specific challenges and ambitions you have at {company_name}. We're also hosting an exclusive dinner and it would be pleasure to invite you to (RSVP: https://forms.office.com/r/ERUjA72YAk). \\\n",
    "\\\n",
    "\\n\\nHappy holidays!\\\n",
    "\\\n",
    "\\n\\n- Paul Kim\\\n",
    "\\\n",
    "\\nAIMMO Sales Engineer | Software | Machine Learning\"\n",
    "print(message)"
   ]
  },
  {
   "cell_type": "code",
   "execution_count": null,
   "id": "c4abddbd",
   "metadata": {},
   "outputs": [],
   "source": []
  }
 ],
 "metadata": {
  "kernelspec": {
   "display_name": "Python 3 (ipykernel)",
   "language": "python",
   "name": "python3"
  },
  "language_info": {
   "codemirror_mode": {
    "name": "ipython",
    "version": 3
   },
   "file_extension": ".py",
   "mimetype": "text/x-python",
   "name": "python",
   "nbconvert_exporter": "python",
   "pygments_lexer": "ipython3",
   "version": "3.9.12"
  }
 },
 "nbformat": 4,
 "nbformat_minor": 5
}
