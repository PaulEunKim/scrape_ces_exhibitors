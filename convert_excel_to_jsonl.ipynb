{
 "cells": [
  {
   "cell_type": "code",
   "execution_count": 4,
   "id": "f9568558",
   "metadata": {},
   "outputs": [
    {
     "name": "stdout",
     "output_type": "stream",
     "text": [
      "Excel data has been converted to D:\\Paul\\OneDrive\\AIMMO\\ces_companies.jsonl\n"
     ]
    }
   ],
   "source": [
    "import pandas as pd\n",
    "import json\n",
    "\n",
    "# Load the Excel file\n",
    "excel_file = \"D:\\Paul\\OneDrive\\AIMMO\\ces_companies.xlsx\"  # Replace with your file path\n",
    "df = pd.read_excel(excel_file)\n",
    "\n",
    "# Convert to JSON Lines and write to a file\n",
    "jsonl_file = 'D:\\Paul\\OneDrive\\AIMMO\\ces_companies.jsonl'  # Output file\n",
    "with open(jsonl_file, 'w') as file:\n",
    "    for _, row in df.iterrows():\n",
    "        json_line = json.dumps(row.to_dict(), ensure_ascii=False)\n",
    "        file.write(json_line + '\\n')\n",
    "\n",
    "print(f\"Excel data has been converted to {jsonl_file}\")"
   ]
  },
  {
   "cell_type": "code",
   "execution_count": null,
   "id": "331fede1",
   "metadata": {},
   "outputs": [],
   "source": []
  }
 ],
 "metadata": {
  "kernelspec": {
   "display_name": "Python 3 (ipykernel)",
   "language": "python",
   "name": "python3"
  },
  "language_info": {
   "codemirror_mode": {
    "name": "ipython",
    "version": 3
   },
   "file_extension": ".py",
   "mimetype": "text/x-python",
   "name": "python",
   "nbconvert_exporter": "python",
   "pygments_lexer": "ipython3",
   "version": "3.9.12"
  }
 },
 "nbformat": 4,
 "nbformat_minor": 5
}
