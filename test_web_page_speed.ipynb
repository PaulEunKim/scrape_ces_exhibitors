{
 "cells": [
  {
   "cell_type": "code",
   "execution_count": 1,
   "id": "5a828c3a",
   "metadata": {},
   "outputs": [],
   "source": [
    "import requests\n",
    "import time"
   ]
  },
  {
   "cell_type": "code",
   "execution_count": 4,
   "id": "06dc2a33",
   "metadata": {},
   "outputs": [],
   "source": [
    "links = [\n",
    "    'https://exhibitors.ces.tech/8_0/exhibitor/exhibitor-details.cfm?exhid=0013000001KaM7tAAF',\n",
    "    'https://exhibitors.ces.tech/8_0/exhibitor/exhibitor-details.cfm?exhid=0013A00001VLP3ZQAX',\n",
    "    'https://exhibitors.ces.tech/8_0/exhibitor/exhibitor-details.cfm?exhid=0013A00001eXqrVQAS',\n",
    "    'https://exhibitors.ces.tech/8_0/exhibitor/exhibitor-details.cfm?exhid=0014V00002JIK5CQAX',\n",
    "    'https://exhibitors.ces.tech/8_0/exhibitor/exhibitor-details.cfm?exhid=0013000001KYV0LAAX',\n",
    "    'https://exhibitors.ces.tech/8_0/exhibitor/exhibitor-details.cfm?exhid=0014V00003pRNhGQAW',\n",
    "    'https://exhibitors.ces.tech/8_0/exhibitor/exhibitor-details.cfm?exhid=0013000001KYV91AAH',\n",
    "    'https://exhibitors.ces.tech/8_0/exhibitor/exhibitor-details.cfm?exhid=0014V000036qnOvQAI',\n",
    "    'https://exhibitors.ces.tech/8_0/exhibitor/exhibitor-details.cfm?exhid=0013000001KYV9oAAH',\n",
    "    'https://exhibitors.ces.tech/8_0/exhibitor/exhibitor-details.cfm?exhid=00130000008Rr3UAAS'\n",
    "]"
   ]
  },
  {
   "cell_type": "code",
   "execution_count": 5,
   "id": "529f84ae",
   "metadata": {},
   "outputs": [
    {
     "name": "stdout",
     "output_type": "stream",
     "text": [
      "Successfully opened https://exhibitors.ces.tech/8_0/exhibitor/exhibitor-details.cfm?exhid=0013000001KaM7tAAF in 0.69 seconds.\n",
      "Successfully opened https://exhibitors.ces.tech/8_0/exhibitor/exhibitor-details.cfm?exhid=0013A00001VLP3ZQAX in 0.55 seconds.\n",
      "Successfully opened https://exhibitors.ces.tech/8_0/exhibitor/exhibitor-details.cfm?exhid=0013A00001eXqrVQAS in 0.55 seconds.\n",
      "Successfully opened https://exhibitors.ces.tech/8_0/exhibitor/exhibitor-details.cfm?exhid=0014V00002JIK5CQAX in 0.51 seconds.\n",
      "Successfully opened https://exhibitors.ces.tech/8_0/exhibitor/exhibitor-details.cfm?exhid=0013000001KYV0LAAX in 0.51 seconds.\n",
      "Successfully opened https://exhibitors.ces.tech/8_0/exhibitor/exhibitor-details.cfm?exhid=0014V00003pRNhGQAW in 0.53 seconds.\n",
      "Successfully opened https://exhibitors.ces.tech/8_0/exhibitor/exhibitor-details.cfm?exhid=0013000001KYV91AAH in 0.58 seconds.\n",
      "Successfully opened https://exhibitors.ces.tech/8_0/exhibitor/exhibitor-details.cfm?exhid=0014V000036qnOvQAI in 0.53 seconds.\n",
      "Successfully opened https://exhibitors.ces.tech/8_0/exhibitor/exhibitor-details.cfm?exhid=0013000001KYV9oAAH in 0.56 seconds.\n",
      "Successfully opened https://exhibitors.ces.tech/8_0/exhibitor/exhibitor-details.cfm?exhid=00130000008Rr3UAAS in 0.55 seconds.\n"
     ]
    }
   ],
   "source": [
    "for link in links:\n",
    "\n",
    "    start_time = time.time()\n",
    "\n",
    "    response = requests.get(link)\n",
    "\n",
    "    end_time = time.time()\n",
    "\n",
    "    if response.status_code == 200:\n",
    "        print(f\"Successfully opened {link} in {end_time - start_time:.2f} seconds.\")\n",
    "    else:\n",
    "        print(f\"Failed to open {link}. Status code: {response.status_code}\")"
   ]
  }
 ],
 "metadata": {
  "kernelspec": {
   "display_name": "Python 3 (ipykernel)",
   "language": "python",
   "name": "python3"
  },
  "language_info": {
   "codemirror_mode": {
    "name": "ipython",
    "version": 3
   },
   "file_extension": ".py",
   "mimetype": "text/x-python",
   "name": "python",
   "nbconvert_exporter": "python",
   "pygments_lexer": "ipython3",
   "version": "3.9.12"
  }
 },
 "nbformat": 4,
 "nbformat_minor": 5
}
